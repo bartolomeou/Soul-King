{
 "cells": [
  {
   "cell_type": "code",
   "execution_count": 1,
   "metadata": {},
   "outputs": [],
   "source": [
    "import pandas as pd\n",
    "\n",
    "import re\n",
    "import json\n",
    "from tqdm import tqdm\n",
    "\n",
    "import spotipy\n",
    "from spotipy.oauth2 import SpotifyClientCredentials"
   ]
  },
  {
   "cell_type": "code",
   "execution_count": 2,
   "metadata": {},
   "outputs": [
    {
     "data": {
      "text/html": [
       "<div>\n",
       "<style scoped>\n",
       "    .dataframe tbody tr th:only-of-type {\n",
       "        vertical-align: middle;\n",
       "    }\n",
       "\n",
       "    .dataframe tbody tr th {\n",
       "        vertical-align: top;\n",
       "    }\n",
       "\n",
       "    .dataframe thead th {\n",
       "        text-align: right;\n",
       "    }\n",
       "</style>\n",
       "<table border=\"1\" class=\"dataframe\">\n",
       "  <thead>\n",
       "    <tr style=\"text-align: right;\">\n",
       "      <th></th>\n",
       "      <th>Unnamed: 0</th>\n",
       "      <th>pos</th>\n",
       "      <th>artist_name</th>\n",
       "      <th>track_uri</th>\n",
       "      <th>artist_uri</th>\n",
       "      <th>track_name</th>\n",
       "      <th>album_uri</th>\n",
       "      <th>duration_ms</th>\n",
       "      <th>album_name</th>\n",
       "      <th>name</th>\n",
       "    </tr>\n",
       "  </thead>\n",
       "  <tbody>\n",
       "    <tr>\n",
       "      <th>0</th>\n",
       "      <td>0</td>\n",
       "      <td>0</td>\n",
       "      <td>AronChupa</td>\n",
       "      <td>spotify:track:66U0ASk1VHZsqIkpMjKX3B</td>\n",
       "      <td>spotify:artist:5vCOdeiQt9LyzdI87kt5Sh</td>\n",
       "      <td>Little Swing</td>\n",
       "      <td>spotify:album:4S5MLjwRSi0NJ5nikflYnZ</td>\n",
       "      <td>163809</td>\n",
       "      <td>Little Swing</td>\n",
       "      <td>Party</td>\n",
       "    </tr>\n",
       "    <tr>\n",
       "      <th>1</th>\n",
       "      <td>1</td>\n",
       "      <td>1</td>\n",
       "      <td>AronChupa</td>\n",
       "      <td>spotify:track:5MhsZlmKJG6X5kTHkdwC4B</td>\n",
       "      <td>spotify:artist:5vCOdeiQt9LyzdI87kt5Sh</td>\n",
       "      <td>I'm an Albatraoz</td>\n",
       "      <td>spotify:album:1qHVYbxQ6IS8YRviorKDJI</td>\n",
       "      <td>166848</td>\n",
       "      <td>I'm an Albatraoz</td>\n",
       "      <td>Party</td>\n",
       "    </tr>\n",
       "    <tr>\n",
       "      <th>2</th>\n",
       "      <td>2</td>\n",
       "      <td>2</td>\n",
       "      <td>Lorde</td>\n",
       "      <td>spotify:track:0GZoB8h0kqXn7XFm4Sj06k</td>\n",
       "      <td>spotify:artist:163tK9Wjr9P9DmM0AVK7lm</td>\n",
       "      <td>Yellow Flicker Beat - From The Hunger Games: M...</td>\n",
       "      <td>spotify:album:4UEPxQx0cTcYNsE0n32MHV</td>\n",
       "      <td>232506</td>\n",
       "      <td>Yellow Flicker Beat</td>\n",
       "      <td>Party</td>\n",
       "    </tr>\n",
       "    <tr>\n",
       "      <th>3</th>\n",
       "      <td>3</td>\n",
       "      <td>3</td>\n",
       "      <td>Lorde</td>\n",
       "      <td>spotify:track:35kahykNu00FPysz3C2euR</td>\n",
       "      <td>spotify:artist:163tK9Wjr9P9DmM0AVK7lm</td>\n",
       "      <td>White Teeth Teens</td>\n",
       "      <td>spotify:album:0rmhjUgoVa17LZuS8xWQ3v</td>\n",
       "      <td>216600</td>\n",
       "      <td>Pure Heroine</td>\n",
       "      <td>Party</td>\n",
       "    </tr>\n",
       "    <tr>\n",
       "      <th>4</th>\n",
       "      <td>4</td>\n",
       "      <td>4</td>\n",
       "      <td>Lorde</td>\n",
       "      <td>spotify:track:3G6hD9B2ZHOsgf4WfNu7X1</td>\n",
       "      <td>spotify:artist:163tK9Wjr9P9DmM0AVK7lm</td>\n",
       "      <td>Team</td>\n",
       "      <td>spotify:album:0rmhjUgoVa17LZuS8xWQ3v</td>\n",
       "      <td>193058</td>\n",
       "      <td>Pure Heroine</td>\n",
       "      <td>Party</td>\n",
       "    </tr>\n",
       "  </tbody>\n",
       "</table>\n",
       "</div>"
      ],
      "text/plain": [
       "   Unnamed: 0  pos artist_name                             track_uri  \\\n",
       "0           0    0   AronChupa  spotify:track:66U0ASk1VHZsqIkpMjKX3B   \n",
       "1           1    1   AronChupa  spotify:track:5MhsZlmKJG6X5kTHkdwC4B   \n",
       "2           2    2       Lorde  spotify:track:0GZoB8h0kqXn7XFm4Sj06k   \n",
       "3           3    3       Lorde  spotify:track:35kahykNu00FPysz3C2euR   \n",
       "4           4    4       Lorde  spotify:track:3G6hD9B2ZHOsgf4WfNu7X1   \n",
       "\n",
       "                              artist_uri  \\\n",
       "0  spotify:artist:5vCOdeiQt9LyzdI87kt5Sh   \n",
       "1  spotify:artist:5vCOdeiQt9LyzdI87kt5Sh   \n",
       "2  spotify:artist:163tK9Wjr9P9DmM0AVK7lm   \n",
       "3  spotify:artist:163tK9Wjr9P9DmM0AVK7lm   \n",
       "4  spotify:artist:163tK9Wjr9P9DmM0AVK7lm   \n",
       "\n",
       "                                          track_name  \\\n",
       "0                                       Little Swing   \n",
       "1                                   I'm an Albatraoz   \n",
       "2  Yellow Flicker Beat - From The Hunger Games: M...   \n",
       "3                                  White Teeth Teens   \n",
       "4                                               Team   \n",
       "\n",
       "                              album_uri  duration_ms           album_name  \\\n",
       "0  spotify:album:4S5MLjwRSi0NJ5nikflYnZ       163809         Little Swing   \n",
       "1  spotify:album:1qHVYbxQ6IS8YRviorKDJI       166848     I'm an Albatraoz   \n",
       "2  spotify:album:4UEPxQx0cTcYNsE0n32MHV       232506  Yellow Flicker Beat   \n",
       "3  spotify:album:0rmhjUgoVa17LZuS8xWQ3v       216600         Pure Heroine   \n",
       "4  spotify:album:0rmhjUgoVa17LZuS8xWQ3v       193058         Pure Heroine   \n",
       "\n",
       "    name  \n",
       "0  Party  \n",
       "1  Party  \n",
       "2  Party  \n",
       "3  Party  \n",
       "4  Party  "
      ]
     },
     "execution_count": 2,
     "metadata": {},
     "output_type": "execute_result"
    }
   ],
   "source": [
    "# load raw_data\n",
    "path = './data/raw_data.csv'\n",
    "df = pd.read_csv(path)\n",
    "df.head()"
   ]
  },
  {
   "cell_type": "code",
   "execution_count": 3,
   "metadata": {},
   "outputs": [],
   "source": [
    "df = df.dropna(subset=['name'])"
   ]
  },
  {
   "cell_type": "code",
   "execution_count": 4,
   "metadata": {},
   "outputs": [
    {
     "data": {
      "text/plain": [
       "0         66U0ASk1VHZsqIkpMjKX3B\n",
       "1         5MhsZlmKJG6X5kTHkdwC4B\n",
       "2         0GZoB8h0kqXn7XFm4Sj06k\n",
       "3         35kahykNu00FPysz3C2euR\n",
       "4         3G6hD9B2ZHOsgf4WfNu7X1\n",
       "                   ...          \n",
       "280995    38griAVM808crjbFp9gcPD\n",
       "280996    1JClFT74TYSXlzpagbmj0S\n",
       "280997    4InLm5a9Qtkru6YxEjM4Qc\n",
       "280998    4hdog9vyyqG9pcppG2Izek\n",
       "280999    0NiXXAI876aGImAd6rTj8w\n",
       "Name: track_uri, Length: 266000, dtype: object"
      ]
     },
     "execution_count": 4,
     "metadata": {},
     "output_type": "execute_result"
    }
   ],
   "source": [
    "# format track-uri\n",
    "# match the last word-like sequence of characters from string\n",
    "df['track_uri'] = df['track_uri'].apply(lambda x: re.findall(r'\\w+$', x)[0])\n",
    "df['track_uri']"
   ]
  },
  {
   "cell_type": "code",
   "execution_count": 8,
   "metadata": {},
   "outputs": [],
   "source": [
    "try:\n",
    "    with open('config.json', 'r') as file:\n",
    "        config_data = json.load(file)\n",
    "        client_id = config_data['client_id']\n",
    "        client_secret = config_data['client_secret']\n",
    "except FileNotFoundError:\n",
    "    print('Config file not found.')\n",
    "except json.JSONDecodeError:\n",
    "    print('Error decoding JSON in the config file.')"
   ]
  },
  {
   "cell_type": "code",
   "execution_count": 9,
   "metadata": {},
   "outputs": [],
   "source": [
    "def extract_features(uri):\n",
    "    # authentication without user\n",
    "    client_credentials_manager = SpotifyClientCredentials(\n",
    "        client_id=client_id, client_secret=client_secret)\n",
    "    sp = spotipy.Spotify(client_credentials_manager=client_credentials_manager)\n",
    "\n",
    "    # audio features\n",
    "    features = sp.audio_features(uri)[0]\n",
    "\n",
    "    # artist's genres and popularity\n",
    "    artist = sp.track(uri)['artists'][0]['id']\n",
    "    artist_genres = sp.artist(artist)['genres']\n",
    "    artist_popularity = sp.artist(artist)['popularity']\n",
    "\n",
    "    # track popularity\n",
    "    track_popularity = sp.track(uri)['popularity']\n",
    "\n",
    "    # add extra features\n",
    "    features['artist_popularity'] = artist_popularity\n",
    "    if artist_genres:\n",
    "        features['genres'] = \" \".join(\n",
    "            [re.sub(' ', '_', i) for i in artist_genres])   # replace space with underscore\n",
    "    else:\n",
    "        features['genres'] = 'unknown'\n",
    "    features['track_popularity'] = track_popularity\n",
    "\n",
    "    return features"
   ]
  },
  {
   "cell_type": "code",
   "execution_count": 11,
   "metadata": {},
   "outputs": [
    {
     "ename": "KeyboardInterrupt",
     "evalue": "",
     "output_type": "error",
     "traceback": [
      "\u001b[0;31m---------------------------------------------------------------------------\u001b[0m",
      "\u001b[0;31mKeyboardInterrupt\u001b[0m                         Traceback (most recent call last)",
      "Cell \u001b[0;32mIn[11], line 1\u001b[0m\n\u001b[0;32m----> 1\u001b[0m extract_features(df[\u001b[39m'\u001b[39;49m\u001b[39mtrack_uri\u001b[39;49m\u001b[39m'\u001b[39;49m][\u001b[39m0\u001b[39;49m])\n",
      "Cell \u001b[0;32mIn[9], line 11\u001b[0m, in \u001b[0;36mextract_features\u001b[0;34m(uri)\u001b[0m\n\u001b[1;32m      8\u001b[0m features \u001b[39m=\u001b[39m sp\u001b[39m.\u001b[39maudio_features(uri)[\u001b[39m0\u001b[39m]\n\u001b[1;32m     10\u001b[0m \u001b[39m# artist's genres and popularity\u001b[39;00m\n\u001b[0;32m---> 11\u001b[0m artist \u001b[39m=\u001b[39m sp\u001b[39m.\u001b[39;49mtrack(uri)[\u001b[39m'\u001b[39m\u001b[39martists\u001b[39m\u001b[39m'\u001b[39m][\u001b[39m0\u001b[39m][\u001b[39m'\u001b[39m\u001b[39mid\u001b[39m\u001b[39m'\u001b[39m]\n\u001b[1;32m     12\u001b[0m artist_genres \u001b[39m=\u001b[39m sp\u001b[39m.\u001b[39martist(artist)[\u001b[39m'\u001b[39m\u001b[39mgenres\u001b[39m\u001b[39m'\u001b[39m]\n\u001b[1;32m     13\u001b[0m artist_popularity \u001b[39m=\u001b[39m sp\u001b[39m.\u001b[39martist(artist)[\u001b[39m'\u001b[39m\u001b[39mpopularity\u001b[39m\u001b[39m'\u001b[39m]\n",
      "File \u001b[0;32m/Library/Frameworks/Python.framework/Versions/3.11/lib/python3.11/site-packages/spotipy/client.py:371\u001b[0m, in \u001b[0;36mSpotify.track\u001b[0;34m(self, track_id, market)\u001b[0m\n\u001b[1;32m    363\u001b[0m \u001b[39m\u001b[39m\u001b[39m\"\"\" returns a single track given the track's ID, URI or URL\u001b[39;00m\n\u001b[1;32m    364\u001b[0m \n\u001b[1;32m    365\u001b[0m \u001b[39m    Parameters:\u001b[39;00m\n\u001b[1;32m    366\u001b[0m \u001b[39m        - track_id - a spotify URI, URL or ID\u001b[39;00m\n\u001b[1;32m    367\u001b[0m \u001b[39m        - market - an ISO 3166-1 alpha-2 country code.\u001b[39;00m\n\u001b[1;32m    368\u001b[0m \u001b[39m\"\"\"\u001b[39;00m\n\u001b[1;32m    370\u001b[0m trid \u001b[39m=\u001b[39m \u001b[39mself\u001b[39m\u001b[39m.\u001b[39m_get_id(\u001b[39m\"\u001b[39m\u001b[39mtrack\u001b[39m\u001b[39m\"\u001b[39m, track_id)\n\u001b[0;32m--> 371\u001b[0m \u001b[39mreturn\u001b[39;00m \u001b[39mself\u001b[39;49m\u001b[39m.\u001b[39;49m_get(\u001b[39m\"\u001b[39;49m\u001b[39mtracks/\u001b[39;49m\u001b[39m\"\u001b[39;49m \u001b[39m+\u001b[39;49m trid, market\u001b[39m=\u001b[39;49mmarket)\n",
      "File \u001b[0;32m/Library/Frameworks/Python.framework/Versions/3.11/lib/python3.11/site-packages/spotipy/client.py:323\u001b[0m, in \u001b[0;36mSpotify._get\u001b[0;34m(self, url, args, payload, **kwargs)\u001b[0m\n\u001b[1;32m    320\u001b[0m \u001b[39mif\u001b[39;00m args:\n\u001b[1;32m    321\u001b[0m     kwargs\u001b[39m.\u001b[39mupdate(args)\n\u001b[0;32m--> 323\u001b[0m \u001b[39mreturn\u001b[39;00m \u001b[39mself\u001b[39;49m\u001b[39m.\u001b[39;49m_internal_call(\u001b[39m\"\u001b[39;49m\u001b[39mGET\u001b[39;49m\u001b[39m\"\u001b[39;49m, url, payload, kwargs)\n",
      "File \u001b[0;32m/Library/Frameworks/Python.framework/Versions/3.11/lib/python3.11/site-packages/spotipy/client.py:266\u001b[0m, in \u001b[0;36mSpotify._internal_call\u001b[0;34m(self, method, url, payload, params)\u001b[0m\n\u001b[1;32m    262\u001b[0m logger\u001b[39m.\u001b[39mdebug(\u001b[39m'\u001b[39m\u001b[39mSending \u001b[39m\u001b[39m%s\u001b[39;00m\u001b[39m to \u001b[39m\u001b[39m%s\u001b[39;00m\u001b[39m with Params: \u001b[39m\u001b[39m%s\u001b[39;00m\u001b[39m Headers: \u001b[39m\u001b[39m%s\u001b[39;00m\u001b[39m and Body: \u001b[39m\u001b[39m%r\u001b[39;00m\u001b[39m \u001b[39m\u001b[39m'\u001b[39m,\n\u001b[1;32m    263\u001b[0m              method, url, args\u001b[39m.\u001b[39mget(\u001b[39m\"\u001b[39m\u001b[39mparams\u001b[39m\u001b[39m\"\u001b[39m), headers, args\u001b[39m.\u001b[39mget(\u001b[39m'\u001b[39m\u001b[39mdata\u001b[39m\u001b[39m'\u001b[39m))\n\u001b[1;32m    265\u001b[0m \u001b[39mtry\u001b[39;00m:\n\u001b[0;32m--> 266\u001b[0m     response \u001b[39m=\u001b[39m \u001b[39mself\u001b[39;49m\u001b[39m.\u001b[39;49m_session\u001b[39m.\u001b[39;49mrequest(\n\u001b[1;32m    267\u001b[0m         method, url, headers\u001b[39m=\u001b[39;49mheaders, proxies\u001b[39m=\u001b[39;49m\u001b[39mself\u001b[39;49m\u001b[39m.\u001b[39;49mproxies,\n\u001b[1;32m    268\u001b[0m         timeout\u001b[39m=\u001b[39;49m\u001b[39mself\u001b[39;49m\u001b[39m.\u001b[39;49mrequests_timeout, \u001b[39m*\u001b[39;49m\u001b[39m*\u001b[39;49margs\n\u001b[1;32m    269\u001b[0m     )\n\u001b[1;32m    271\u001b[0m     response\u001b[39m.\u001b[39mraise_for_status()\n\u001b[1;32m    272\u001b[0m     results \u001b[39m=\u001b[39m response\u001b[39m.\u001b[39mjson()\n",
      "File \u001b[0;32m/Library/Frameworks/Python.framework/Versions/3.11/lib/python3.11/site-packages/requests/sessions.py:589\u001b[0m, in \u001b[0;36mSession.request\u001b[0;34m(self, method, url, params, data, headers, cookies, files, auth, timeout, allow_redirects, proxies, hooks, stream, verify, cert, json)\u001b[0m\n\u001b[1;32m    584\u001b[0m send_kwargs \u001b[39m=\u001b[39m {\n\u001b[1;32m    585\u001b[0m     \u001b[39m\"\u001b[39m\u001b[39mtimeout\u001b[39m\u001b[39m\"\u001b[39m: timeout,\n\u001b[1;32m    586\u001b[0m     \u001b[39m\"\u001b[39m\u001b[39mallow_redirects\u001b[39m\u001b[39m\"\u001b[39m: allow_redirects,\n\u001b[1;32m    587\u001b[0m }\n\u001b[1;32m    588\u001b[0m send_kwargs\u001b[39m.\u001b[39mupdate(settings)\n\u001b[0;32m--> 589\u001b[0m resp \u001b[39m=\u001b[39m \u001b[39mself\u001b[39;49m\u001b[39m.\u001b[39;49msend(prep, \u001b[39m*\u001b[39;49m\u001b[39m*\u001b[39;49msend_kwargs)\n\u001b[1;32m    591\u001b[0m \u001b[39mreturn\u001b[39;00m resp\n",
      "File \u001b[0;32m/Library/Frameworks/Python.framework/Versions/3.11/lib/python3.11/site-packages/requests/sessions.py:703\u001b[0m, in \u001b[0;36mSession.send\u001b[0;34m(self, request, **kwargs)\u001b[0m\n\u001b[1;32m    700\u001b[0m start \u001b[39m=\u001b[39m preferred_clock()\n\u001b[1;32m    702\u001b[0m \u001b[39m# Send the request\u001b[39;00m\n\u001b[0;32m--> 703\u001b[0m r \u001b[39m=\u001b[39m adapter\u001b[39m.\u001b[39;49msend(request, \u001b[39m*\u001b[39;49m\u001b[39m*\u001b[39;49mkwargs)\n\u001b[1;32m    705\u001b[0m \u001b[39m# Total elapsed time of the request (approximately)\u001b[39;00m\n\u001b[1;32m    706\u001b[0m elapsed \u001b[39m=\u001b[39m preferred_clock() \u001b[39m-\u001b[39m start\n",
      "File \u001b[0;32m/Library/Frameworks/Python.framework/Versions/3.11/lib/python3.11/site-packages/requests/adapters.py:486\u001b[0m, in \u001b[0;36mHTTPAdapter.send\u001b[0;34m(self, request, stream, timeout, verify, cert, proxies)\u001b[0m\n\u001b[1;32m    483\u001b[0m     timeout \u001b[39m=\u001b[39m TimeoutSauce(connect\u001b[39m=\u001b[39mtimeout, read\u001b[39m=\u001b[39mtimeout)\n\u001b[1;32m    485\u001b[0m \u001b[39mtry\u001b[39;00m:\n\u001b[0;32m--> 486\u001b[0m     resp \u001b[39m=\u001b[39m conn\u001b[39m.\u001b[39;49murlopen(\n\u001b[1;32m    487\u001b[0m         method\u001b[39m=\u001b[39;49mrequest\u001b[39m.\u001b[39;49mmethod,\n\u001b[1;32m    488\u001b[0m         url\u001b[39m=\u001b[39;49murl,\n\u001b[1;32m    489\u001b[0m         body\u001b[39m=\u001b[39;49mrequest\u001b[39m.\u001b[39;49mbody,\n\u001b[1;32m    490\u001b[0m         headers\u001b[39m=\u001b[39;49mrequest\u001b[39m.\u001b[39;49mheaders,\n\u001b[1;32m    491\u001b[0m         redirect\u001b[39m=\u001b[39;49m\u001b[39mFalse\u001b[39;49;00m,\n\u001b[1;32m    492\u001b[0m         assert_same_host\u001b[39m=\u001b[39;49m\u001b[39mFalse\u001b[39;49;00m,\n\u001b[1;32m    493\u001b[0m         preload_content\u001b[39m=\u001b[39;49m\u001b[39mFalse\u001b[39;49;00m,\n\u001b[1;32m    494\u001b[0m         decode_content\u001b[39m=\u001b[39;49m\u001b[39mFalse\u001b[39;49;00m,\n\u001b[1;32m    495\u001b[0m         retries\u001b[39m=\u001b[39;49m\u001b[39mself\u001b[39;49m\u001b[39m.\u001b[39;49mmax_retries,\n\u001b[1;32m    496\u001b[0m         timeout\u001b[39m=\u001b[39;49mtimeout,\n\u001b[1;32m    497\u001b[0m         chunked\u001b[39m=\u001b[39;49mchunked,\n\u001b[1;32m    498\u001b[0m     )\n\u001b[1;32m    500\u001b[0m \u001b[39mexcept\u001b[39;00m (ProtocolError, \u001b[39mOSError\u001b[39;00m) \u001b[39mas\u001b[39;00m err:\n\u001b[1;32m    501\u001b[0m     \u001b[39mraise\u001b[39;00m \u001b[39mConnectionError\u001b[39;00m(err, request\u001b[39m=\u001b[39mrequest)\n",
      "File \u001b[0;32m/Library/Frameworks/Python.framework/Versions/3.11/lib/python3.11/site-packages/urllib3/connectionpool.py:939\u001b[0m, in \u001b[0;36mHTTPConnectionPool.urlopen\u001b[0;34m(self, method, url, body, headers, retries, redirect, assert_same_host, timeout, pool_timeout, release_conn, chunked, body_pos, preload_content, decode_content, **response_kw)\u001b[0m\n\u001b[1;32m    936\u001b[0m     \u001b[39mreturn\u001b[39;00m response\n\u001b[1;32m    938\u001b[0m response\u001b[39m.\u001b[39mdrain_conn()\n\u001b[0;32m--> 939\u001b[0m retries\u001b[39m.\u001b[39;49msleep(response)\n\u001b[1;32m    940\u001b[0m log\u001b[39m.\u001b[39mdebug(\u001b[39m\"\u001b[39m\u001b[39mRetry: \u001b[39m\u001b[39m%s\u001b[39;00m\u001b[39m\"\u001b[39m, url)\n\u001b[1;32m    941\u001b[0m \u001b[39mreturn\u001b[39;00m \u001b[39mself\u001b[39m\u001b[39m.\u001b[39murlopen(\n\u001b[1;32m    942\u001b[0m     method,\n\u001b[1;32m    943\u001b[0m     url,\n\u001b[0;32m   (...)\u001b[0m\n\u001b[1;32m    956\u001b[0m     \u001b[39m*\u001b[39m\u001b[39m*\u001b[39mresponse_kw,\n\u001b[1;32m    957\u001b[0m )\n",
      "File \u001b[0;32m/Library/Frameworks/Python.framework/Versions/3.11/lib/python3.11/site-packages/urllib3/util/retry.py:355\u001b[0m, in \u001b[0;36mRetry.sleep\u001b[0;34m(self, response)\u001b[0m\n\u001b[1;32m    346\u001b[0m \u001b[39m\u001b[39m\u001b[39m\"\"\"Sleep between retry attempts.\u001b[39;00m\n\u001b[1;32m    347\u001b[0m \n\u001b[1;32m    348\u001b[0m \u001b[39mThis method will respect a server's ``Retry-After`` response header\u001b[39;00m\n\u001b[0;32m   (...)\u001b[0m\n\u001b[1;32m    351\u001b[0m \u001b[39mthis method will return immediately.\u001b[39;00m\n\u001b[1;32m    352\u001b[0m \u001b[39m\"\"\"\u001b[39;00m\n\u001b[1;32m    354\u001b[0m \u001b[39mif\u001b[39;00m \u001b[39mself\u001b[39m\u001b[39m.\u001b[39mrespect_retry_after_header \u001b[39mand\u001b[39;00m response:\n\u001b[0;32m--> 355\u001b[0m     slept \u001b[39m=\u001b[39m \u001b[39mself\u001b[39;49m\u001b[39m.\u001b[39;49msleep_for_retry(response)\n\u001b[1;32m    356\u001b[0m     \u001b[39mif\u001b[39;00m slept:\n\u001b[1;32m    357\u001b[0m         \u001b[39mreturn\u001b[39;00m\n",
      "File \u001b[0;32m/Library/Frameworks/Python.framework/Versions/3.11/lib/python3.11/site-packages/urllib3/util/retry.py:334\u001b[0m, in \u001b[0;36mRetry.sleep_for_retry\u001b[0;34m(self, response)\u001b[0m\n\u001b[1;32m    332\u001b[0m retry_after \u001b[39m=\u001b[39m \u001b[39mself\u001b[39m\u001b[39m.\u001b[39mget_retry_after(response)\n\u001b[1;32m    333\u001b[0m \u001b[39mif\u001b[39;00m retry_after:\n\u001b[0;32m--> 334\u001b[0m     time\u001b[39m.\u001b[39;49msleep(retry_after)\n\u001b[1;32m    335\u001b[0m     \u001b[39mreturn\u001b[39;00m \u001b[39mTrue\u001b[39;00m\n\u001b[1;32m    337\u001b[0m \u001b[39mreturn\u001b[39;00m \u001b[39mFalse\u001b[39;00m\n",
      "\u001b[0;31mKeyboardInterrupt\u001b[0m: "
     ]
    }
   ],
   "source": [
    "extract_features(df['track_uri'][0])"
   ]
  },
  {
   "cell_type": "code",
   "execution_count": null,
   "metadata": {},
   "outputs": [],
   "source": [
    "# scared so only doing the first 30000\n",
    "first_part = df['track_uri'].unique()[:20000]\n",
    "second_part = df['track_uri'].unique()[20000:40000]\n",
    "third_part = df['track_uri'].unique()[40000:]\n",
    "\n",
    "features_list = list()"
   ]
  },
  {
   "cell_type": "code",
   "execution_count": null,
   "metadata": {},
   "outputs": [
    {
     "name": "stderr",
     "output_type": "stream",
     "text": [
      "  6%|▌         | 614/10000 [08:43<2:08:24,  1.22it/s]"
     ]
    },
    {
     "name": "stderr",
     "output_type": "stream",
     "text": [
      "  6%|▌         | 615/10000 [08:44<2:06:28,  1.24it/s]"
     ]
    }
   ],
   "source": [
    "for i in tqdm([uri for uri in first_part]):\n",
    "    try:\n",
    "        features_list.append(extract_features(i))\n",
    "    except:\n",
    "        continue"
   ]
  },
  {
   "cell_type": "code",
   "execution_count": null,
   "metadata": {},
   "outputs": [],
   "source": [
    "for i in tqdm([uri for uri in second_part]):\n",
    "    try:\n",
    "        features_list.append(extract_features(i))\n",
    "    except:\n",
    "        continue"
   ]
  },
  {
   "cell_type": "code",
   "execution_count": null,
   "metadata": {},
   "outputs": [],
   "source": [
    "for i in tqdm([uri for uri in third_part]):\n",
    "    try:\n",
    "        features_list.append(extract_features(i))\n",
    "    except:\n",
    "        continue"
   ]
  },
  {
   "cell_type": "code",
   "execution_count": null,
   "metadata": {},
   "outputs": [],
   "source": [
    "# convert list to dataframe\n",
    "features_df = pd.DataFrame(features_list)\n",
    "features_df.head()"
   ]
  },
  {
   "cell_type": "code",
   "execution_count": null,
   "metadata": {},
   "outputs": [],
   "source": [
    "complete_df = pd.merge(df, features_df, left_on='track_uri', right_on='id')"
   ]
  },
  {
   "cell_type": "code",
   "execution_count": null,
   "metadata": {},
   "outputs": [],
   "source": [
    "complete_df.to_csv('./data/processed_data.csv')"
   ]
  }
 ],
 "metadata": {
  "kernelspec": {
   "display_name": "Python 3",
   "language": "python",
   "name": "python3"
  },
  "language_info": {
   "codemirror_mode": {
    "name": "ipython",
    "version": 3
   },
   "file_extension": ".py",
   "mimetype": "text/x-python",
   "name": "python",
   "nbconvert_exporter": "python",
   "pygments_lexer": "ipython3",
   "version": "3.10.8"
  },
  "orig_nbformat": 4
 },
 "nbformat": 4,
 "nbformat_minor": 2
}
