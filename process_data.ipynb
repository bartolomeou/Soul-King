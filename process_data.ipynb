{
 "cells": [
  {
   "cell_type": "code",
   "execution_count": 18,
   "metadata": {},
   "outputs": [],
   "source": [
    "import pandas as pd\n",
    "\n",
    "import re\n",
    "import json\n",
    "from tqdm import tqdm\n",
    "\n",
    "import spotipy\n",
    "from spotipy.oauth2 import SpotifyClientCredentials"
   ]
  },
  {
   "cell_type": "code",
   "execution_count": 19,
   "metadata": {},
   "outputs": [
    {
     "data": {
      "text/html": [
       "<div>\n",
       "<style scoped>\n",
       "    .dataframe tbody tr th:only-of-type {\n",
       "        vertical-align: middle;\n",
       "    }\n",
       "\n",
       "    .dataframe tbody tr th {\n",
       "        vertical-align: top;\n",
       "    }\n",
       "\n",
       "    .dataframe thead th {\n",
       "        text-align: right;\n",
       "    }\n",
       "</style>\n",
       "<table border=\"1\" class=\"dataframe\">\n",
       "  <thead>\n",
       "    <tr style=\"text-align: right;\">\n",
       "      <th></th>\n",
       "      <th>Unnamed: 0</th>\n",
       "      <th>pos</th>\n",
       "      <th>artist_name</th>\n",
       "      <th>track_uri</th>\n",
       "      <th>artist_uri</th>\n",
       "      <th>track_name</th>\n",
       "      <th>album_uri</th>\n",
       "      <th>duration_ms</th>\n",
       "      <th>album_name</th>\n",
       "      <th>name</th>\n",
       "    </tr>\n",
       "  </thead>\n",
       "  <tbody>\n",
       "    <tr>\n",
       "      <th>0</th>\n",
       "      <td>0</td>\n",
       "      <td>0</td>\n",
       "      <td>AronChupa</td>\n",
       "      <td>spotify:track:66U0ASk1VHZsqIkpMjKX3B</td>\n",
       "      <td>spotify:artist:5vCOdeiQt9LyzdI87kt5Sh</td>\n",
       "      <td>Little Swing</td>\n",
       "      <td>spotify:album:4S5MLjwRSi0NJ5nikflYnZ</td>\n",
       "      <td>163809</td>\n",
       "      <td>Little Swing</td>\n",
       "      <td>Party</td>\n",
       "    </tr>\n",
       "    <tr>\n",
       "      <th>1</th>\n",
       "      <td>1</td>\n",
       "      <td>1</td>\n",
       "      <td>AronChupa</td>\n",
       "      <td>spotify:track:5MhsZlmKJG6X5kTHkdwC4B</td>\n",
       "      <td>spotify:artist:5vCOdeiQt9LyzdI87kt5Sh</td>\n",
       "      <td>I'm an Albatraoz</td>\n",
       "      <td>spotify:album:1qHVYbxQ6IS8YRviorKDJI</td>\n",
       "      <td>166848</td>\n",
       "      <td>I'm an Albatraoz</td>\n",
       "      <td>Party</td>\n",
       "    </tr>\n",
       "    <tr>\n",
       "      <th>2</th>\n",
       "      <td>2</td>\n",
       "      <td>2</td>\n",
       "      <td>Lorde</td>\n",
       "      <td>spotify:track:0GZoB8h0kqXn7XFm4Sj06k</td>\n",
       "      <td>spotify:artist:163tK9Wjr9P9DmM0AVK7lm</td>\n",
       "      <td>Yellow Flicker Beat - From The Hunger Games: M...</td>\n",
       "      <td>spotify:album:4UEPxQx0cTcYNsE0n32MHV</td>\n",
       "      <td>232506</td>\n",
       "      <td>Yellow Flicker Beat</td>\n",
       "      <td>Party</td>\n",
       "    </tr>\n",
       "    <tr>\n",
       "      <th>3</th>\n",
       "      <td>3</td>\n",
       "      <td>3</td>\n",
       "      <td>Lorde</td>\n",
       "      <td>spotify:track:35kahykNu00FPysz3C2euR</td>\n",
       "      <td>spotify:artist:163tK9Wjr9P9DmM0AVK7lm</td>\n",
       "      <td>White Teeth Teens</td>\n",
       "      <td>spotify:album:0rmhjUgoVa17LZuS8xWQ3v</td>\n",
       "      <td>216600</td>\n",
       "      <td>Pure Heroine</td>\n",
       "      <td>Party</td>\n",
       "    </tr>\n",
       "    <tr>\n",
       "      <th>4</th>\n",
       "      <td>4</td>\n",
       "      <td>4</td>\n",
       "      <td>Lorde</td>\n",
       "      <td>spotify:track:3G6hD9B2ZHOsgf4WfNu7X1</td>\n",
       "      <td>spotify:artist:163tK9Wjr9P9DmM0AVK7lm</td>\n",
       "      <td>Team</td>\n",
       "      <td>spotify:album:0rmhjUgoVa17LZuS8xWQ3v</td>\n",
       "      <td>193058</td>\n",
       "      <td>Pure Heroine</td>\n",
       "      <td>Party</td>\n",
       "    </tr>\n",
       "  </tbody>\n",
       "</table>\n",
       "</div>"
      ],
      "text/plain": [
       "   Unnamed: 0  pos artist_name                             track_uri  \\\n",
       "0           0    0   AronChupa  spotify:track:66U0ASk1VHZsqIkpMjKX3B   \n",
       "1           1    1   AronChupa  spotify:track:5MhsZlmKJG6X5kTHkdwC4B   \n",
       "2           2    2       Lorde  spotify:track:0GZoB8h0kqXn7XFm4Sj06k   \n",
       "3           3    3       Lorde  spotify:track:35kahykNu00FPysz3C2euR   \n",
       "4           4    4       Lorde  spotify:track:3G6hD9B2ZHOsgf4WfNu7X1   \n",
       "\n",
       "                              artist_uri  \\\n",
       "0  spotify:artist:5vCOdeiQt9LyzdI87kt5Sh   \n",
       "1  spotify:artist:5vCOdeiQt9LyzdI87kt5Sh   \n",
       "2  spotify:artist:163tK9Wjr9P9DmM0AVK7lm   \n",
       "3  spotify:artist:163tK9Wjr9P9DmM0AVK7lm   \n",
       "4  spotify:artist:163tK9Wjr9P9DmM0AVK7lm   \n",
       "\n",
       "                                          track_name  \\\n",
       "0                                       Little Swing   \n",
       "1                                   I'm an Albatraoz   \n",
       "2  Yellow Flicker Beat - From The Hunger Games: M...   \n",
       "3                                  White Teeth Teens   \n",
       "4                                               Team   \n",
       "\n",
       "                              album_uri  duration_ms           album_name  \\\n",
       "0  spotify:album:4S5MLjwRSi0NJ5nikflYnZ       163809         Little Swing   \n",
       "1  spotify:album:1qHVYbxQ6IS8YRviorKDJI       166848     I'm an Albatraoz   \n",
       "2  spotify:album:4UEPxQx0cTcYNsE0n32MHV       232506  Yellow Flicker Beat   \n",
       "3  spotify:album:0rmhjUgoVa17LZuS8xWQ3v       216600         Pure Heroine   \n",
       "4  spotify:album:0rmhjUgoVa17LZuS8xWQ3v       193058         Pure Heroine   \n",
       "\n",
       "    name  \n",
       "0  Party  \n",
       "1  Party  \n",
       "2  Party  \n",
       "3  Party  \n",
       "4  Party  "
      ]
     },
     "execution_count": 19,
     "metadata": {},
     "output_type": "execute_result"
    }
   ],
   "source": [
    "# load raw_data\n",
    "path = './data/raw_data.csv'\n",
    "df = pd.read_csv(path)\n",
    "df.head()"
   ]
  },
  {
   "cell_type": "code",
   "execution_count": 15,
   "metadata": {},
   "outputs": [
    {
     "name": "stdout",
     "output_type": "stream",
     "text": [
      "<class 'pandas.core.frame.DataFrame'>\n",
      "Index: 266000 entries, 0 to 280999\n",
      "Data columns (total 10 columns):\n",
      " #   Column       Non-Null Count   Dtype \n",
      "---  ------       --------------   ----- \n",
      " 0   Unnamed: 0   266000 non-null  int64 \n",
      " 1   pos          266000 non-null  int64 \n",
      " 2   artist_name  266000 non-null  object\n",
      " 3   track_uri    266000 non-null  object\n",
      " 4   artist_uri   266000 non-null  object\n",
      " 5   track_name   265999 non-null  object\n",
      " 6   album_uri    266000 non-null  object\n",
      " 7   duration_ms  266000 non-null  int64 \n",
      " 8   album_name   266000 non-null  object\n",
      " 9   name         266000 non-null  object\n",
      "dtypes: int64(3), object(7)\n",
      "memory usage: 22.3+ MB\n"
     ]
    }
   ],
   "source": [
    "df = df.dropna(subset=['name'])"
   ]
  },
  {
   "cell_type": "code",
   "execution_count": 20,
   "metadata": {},
   "outputs": [
    {
     "data": {
      "text/plain": [
       "0         66U0ASk1VHZsqIkpMjKX3B\n",
       "1         5MhsZlmKJG6X5kTHkdwC4B\n",
       "2         0GZoB8h0kqXn7XFm4Sj06k\n",
       "3         35kahykNu00FPysz3C2euR\n",
       "4         3G6hD9B2ZHOsgf4WfNu7X1\n",
       "                   ...          \n",
       "280995    38griAVM808crjbFp9gcPD\n",
       "280996    1JClFT74TYSXlzpagbmj0S\n",
       "280997    4InLm5a9Qtkru6YxEjM4Qc\n",
       "280998    4hdog9vyyqG9pcppG2Izek\n",
       "280999    0NiXXAI876aGImAd6rTj8w\n",
       "Name: track_uri, Length: 281000, dtype: object"
      ]
     },
     "execution_count": 20,
     "metadata": {},
     "output_type": "execute_result"
    }
   ],
   "source": [
    "# format track-uri\n",
    "# match the last word-like sequence of characters from string\n",
    "df['track_uri'] = df['track_uri'].apply(lambda x: re.findall(r'\\w+$', x)[0])\n",
    "df['track_uri']"
   ]
  },
  {
   "cell_type": "code",
   "execution_count": 5,
   "metadata": {},
   "outputs": [],
   "source": [
    "try:\n",
    "    with open('config.json', 'r') as file:\n",
    "        config_data = json.load(file)\n",
    "        client_id = config_data['client_id']\n",
    "        client_secret = config_data['client_secret']\n",
    "except FileNotFoundError:\n",
    "    print('Config file not found.')\n",
    "except json.JSONDecodeError:\n",
    "    print('Error decoding JSON in the config file.')\n",
    "\n",
    "# authentication without user\n",
    "client_credentials_manager = SpotifyClientCredentials(\n",
    "    client_id=client_id, client_secret=client_secret)\n",
    "sp = spotipy.Spotify(client_credentials_manager=client_credentials_manager)"
   ]
  },
  {
   "cell_type": "code",
   "execution_count": 1,
   "metadata": {},
   "outputs": [],
   "source": [
    "def extract_features(uri):\n",
    "    # audio features\n",
    "    features = sp.audio_features(uri)[0]\n",
    "\n",
    "    # artist's genres and popularity\n",
    "    artist = sp.track(uri)['artists'][0]['id']\n",
    "    artist_genres = sp.artist(artist)['genres']\n",
    "    artist_popularity = sp.artist(artist)['popularity']\n",
    "\n",
    "    # track popularity\n",
    "    track_popularity = sp.track(uri)['popularity']\n",
    "\n",
    "    # add extra features\n",
    "    features['artist_popularity'] = artist_popularity\n",
    "    if artist_genres:\n",
    "        features['genres'] = \" \".join(\n",
    "            [re.sub(' ', '_', i) for i in artist_genres])   # replace space with underscore\n",
    "    else:\n",
    "        features['genres'] = 'unknown'\n",
    "    features['track_popularity'] = track_popularity\n",
    "\n",
    "    return features"
   ]
  },
  {
   "cell_type": "code",
   "execution_count": 21,
   "metadata": {},
   "outputs": [],
   "source": [
    "# scared so only doing the first 30000\n",
    "first_part = df['track_uri'].unique()[:20000]\n",
    "second_part = df['track_uri'].unique()[20000:40000]\n",
    "third_part = df['track_uri'].unique()[40000:]\n",
    "\n",
    "features_list = list()"
   ]
  },
  {
   "cell_type": "code",
   "execution_count": 7,
   "metadata": {},
   "outputs": [
    {
     "name": "stderr",
     "output_type": "stream",
     "text": [
      "  6%|▌         | 614/10000 [08:43<2:08:24,  1.22it/s]"
     ]
    },
    {
     "name": "stderr",
     "output_type": "stream",
     "text": [
      "  6%|▌         | 615/10000 [08:44<2:06:28,  1.24it/s]"
     ]
    }
   ],
   "source": [
    "for i in tqdm([uri for uri in first_part]):\n",
    "    try:\n",
    "        features_list.append(extract_features(i))\n",
    "    except:\n",
    "        continue"
   ]
  },
  {
   "cell_type": "code",
   "execution_count": null,
   "metadata": {},
   "outputs": [],
   "source": [
    "for i in tqdm([uri for uri in second_part]):\n",
    "    try:\n",
    "        features_list.append(extract_features(i))\n",
    "    except:\n",
    "        continue"
   ]
  },
  {
   "cell_type": "code",
   "execution_count": null,
   "metadata": {},
   "outputs": [],
   "source": [
    "for i in tqdm([uri for uri in third_part]):\n",
    "    try:\n",
    "        features_list.append(extract_features(i))\n",
    "    except:\n",
    "        continue"
   ]
  },
  {
   "cell_type": "code",
   "execution_count": null,
   "metadata": {},
   "outputs": [],
   "source": [
    "# convert list to dataframe\n",
    "features_df = pd.DataFrame(features_list)\n",
    "features_df.head()"
   ]
  },
  {
   "cell_type": "code",
   "execution_count": null,
   "metadata": {},
   "outputs": [],
   "source": [
    "complete_df = pd.merge(df, features_df, left_on='track_uri', right_on='id')"
   ]
  },
  {
   "cell_type": "code",
   "execution_count": null,
   "metadata": {},
   "outputs": [],
   "source": [
    "complete_df.to_csv('./data/processed_data.csv')"
   ]
  }
 ],
 "metadata": {
  "kernelspec": {
   "display_name": "Python 3",
   "language": "python",
   "name": "python3"
  },
  "language_info": {
   "codemirror_mode": {
    "name": "ipython",
    "version": 3
   },
   "file_extension": ".py",
   "mimetype": "text/x-python",
   "name": "python",
   "nbconvert_exporter": "python",
   "pygments_lexer": "ipython3",
   "version": "3.11.3"
  },
  "orig_nbformat": 4
 },
 "nbformat": 4,
 "nbformat_minor": 2
}
