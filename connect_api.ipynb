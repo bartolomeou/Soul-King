{
 "cells": [
  {
   "cell_type": "code",
   "execution_count": 1,
   "metadata": {},
   "outputs": [],
   "source": [
    "# for making HTTP requests\n",
    "import requests\n",
    "# provides function for parsing URLS and manipulating query strings\n",
    "from urllib.parse import urlencode\n",
    "# for encoding and decoding binary data using Base64 encoding\n",
    "import base64\n",
    "# provides a high-level interface to display web-based documents to users\n",
    "import webbrowser\n",
    "import json"
   ]
  },
  {
   "cell_type": "code",
   "execution_count": 5,
   "metadata": {},
   "outputs": [
    {
     "data": {
      "text/plain": [
       "True"
      ]
     },
     "execution_count": 5,
     "metadata": {},
     "output_type": "execute_result"
    }
   ],
   "source": [
    "try:\n",
    "    with open('config.json', 'r') as file:\n",
    "        config_data = json.load(file)\n",
    "        client_id = config_data['client_id']\n",
    "        client_secret = config_data['client_secret']\n",
    "except FileNotFoundError:\n",
    "    print('Config file not found.')\n",
    "except json.JSONDecodeError:\n",
    "    print('Error decoding JSON in the config file.')\n",
    "\n",
    "auth_headers = {\n",
    "    'client_id': client_id,\n",
    "    'response_type': 'code',    # authorization code\n",
    "    'redirect_uri': 'http://localhost:7777/callback',\n",
    "    'scope': 'user-library-read'\n",
    "}\n",
    "\n",
    "webbrowser.open('https://accounts.spotify.com/authorize?' +\n",
    "                urlencode(auth_headers))"
   ]
  },
  {
   "cell_type": "code",
   "execution_count": 6,
   "metadata": {},
   "outputs": [],
   "source": [
    "code = 'AQCVZax9D2LCDV4vq8ZaKnahq_u0Uvdbt4pXnJnA-TIZPGc_-bl3IP2YR6Ezh2YECBjmBriyIriuAbE8TNb95q6m8u12Ro1AIilo4hYtPLPusyWgb1ecjXINnQ55i6oB10OpsZ2YVVVg5cvnbHVCoe2zDfnryjHx0GU4Y-Z2iBssjPkyjhzmXj0kw6D3fnpM_XdIwW0'"
   ]
  },
  {
   "cell_type": "code",
   "execution_count": 11,
   "metadata": {},
   "outputs": [],
   "source": [
    "encoded_credentials = base64.b64encode(\n",
    "    client_id.encode() + b':' + client_secret.encode()).decode(\"utf-8\")\n",
    "\n",
    "token_headers = {\n",
    "    \"Authorization\": \"Basic \" + encoded_credentials,\n",
    "    \"Content-Type\": \"application/x-www-form-urlencoded\"\n",
    "}\n",
    "\n",
    "token_data = {\n",
    "    \"grant_type\": \"authorization_code\",\n",
    "    \"code\": code,\n",
    "    \"redirect_uri\": \"http://localhost:7777/callback\"\n",
    "}\n",
    "\n",
    "\n",
    "# make request to the https://accounts.spotify.com/api/token endpoint with token_headers and token_data attached\n",
    "r = requests.post(\"https://accounts.spotify.com/api/token\",\n",
    "                  data=token_data, headers=token_headers)"
   ]
  },
  {
   "cell_type": "code",
   "execution_count": 15,
   "metadata": {},
   "outputs": [
    {
     "name": "stdout",
     "output_type": "stream",
     "text": [
      "BQBz6rYo9xrYwxcv7zVWfelWtLNEEaQyzbQODCKK78-9-N50QPa1oUUTOozUID-1cEWvT8Cn6od6d0KL0DEwcXJmEZgXpQItUY0LG4_AwnoFy6xXt7ImSEZf5YONas8L9kXEw_13RhWV3GKBZS_2HwoNxQsCLjVqqKKlAfspCzdGtVOtYmWGXWN6gQSMDJDOLh5V30Cjp6OD6mb-1ms\n"
     ]
    }
   ],
   "source": [
    "authorization_token = r.json()['access_token']\n",
    "\n",
    "print(authorization_token)"
   ]
  }
 ],
 "metadata": {
  "kernelspec": {
   "display_name": "Python 3",
   "language": "python",
   "name": "python3"
  },
  "language_info": {
   "codemirror_mode": {
    "name": "ipython",
    "version": 3
   },
   "file_extension": ".py",
   "mimetype": "text/x-python",
   "name": "python",
   "nbconvert_exporter": "python",
   "pygments_lexer": "ipython3",
   "version": "3.10.8"
  },
  "orig_nbformat": 4
 },
 "nbformat": 4,
 "nbformat_minor": 2
}
