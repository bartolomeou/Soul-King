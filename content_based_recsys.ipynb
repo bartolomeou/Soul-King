{
 "cells": [
  {
   "cell_type": "code",
   "execution_count": null,
   "metadata": {},
   "outputs": [],
   "source": [
    "import pandas as pd\n",
    "import numpy as np\n",
    "from sklearn.metrics.pairwise import cosine_similarity\n",
    "from sklearn.preprocessing import MinMaxScaler\n",
    "from sklearn.feature_extraction.text import TfidfVectorizer\n",
    "from textblob import TextBlob\n",
    "import re"
   ]
  },
  {
   "cell_type": "markdown",
   "metadata": {},
   "source": [
    "### Data Selection\n"
   ]
  },
  {
   "cell_type": "code",
   "execution_count": null,
   "metadata": {},
   "outputs": [],
   "source": [
    "df = pd.read_csv('./data/processed_data.csv')\n",
    "df.drop(columns=['Unnamed: 0.1', 'Unnamed: 0'], inplace=True)\n",
    "\n",
    "df.head()"
   ]
  },
  {
   "cell_type": "code",
   "execution_count": null,
   "metadata": {},
   "outputs": [],
   "source": [
    "df.rename(columns={'artist_pop': 'artist_popularity',\n",
    "          'track_pop': 'track_popularity'}, inplace=True)"
   ]
  },
  {
   "cell_type": "code",
   "execution_count": null,
   "metadata": {},
   "outputs": [],
   "source": [
    "# drop duplicated songs\n",
    "df = df.drop_duplicates(subset='track_uri')\n",
    "\n",
    "# select relevant columns\n",
    "df = df[['artist_name', 'id', 'track_name', 'danceability', 'energy', 'key', 'loudness', 'mode',\n",
    "         'speechiness', 'acousticness', 'instrumentalness', 'liveness', 'valence', 'tempo', 'artist_popularity', 'genres', 'track_popularity']]\n",
    "\n",
    "# convert genres columns back into a list\n",
    "df['genres'] = df['genres'].apply(lambda x: x.split(' '))\n",
    "\n",
    "df.reset_index(drop=True, inplace=True)\n",
    "\n",
    "df.head()"
   ]
  },
  {
   "cell_type": "markdown",
   "metadata": {},
   "source": [
    "### Feature Generation\n"
   ]
  },
  {
   "cell_type": "code",
   "execution_count": null,
   "metadata": {},
   "outputs": [],
   "source": [
    "def get_subjectivity(text):\n",
    "    # subjectivity - amount of personal and factual information contained in the text\n",
    "    return TextBlob(text).sentiment.subjectivity\n",
    "\n",
    "\n",
    "def get_polarity(text):\n",
    "    # the degree of strong or clearly defined sentiment accounting for negation\n",
    "    return TextBlob(text).sentiment.polarity\n",
    "\n",
    "\n",
    "def get_analysis(score, task):\n",
    "    '''\n",
    "    Categorizing the Polarity and Subjectivity score.\n",
    "    '''\n",
    "    if task == 'subjectivity':\n",
    "        if score < 1/3:\n",
    "            return 'low'\n",
    "\n",
    "        if score > 1/3:\n",
    "            return 'high'\n",
    "\n",
    "        return 'medium'\n",
    "\n",
    "    if task == 'polarity':\n",
    "        if score < 0:\n",
    "            return 'negative'\n",
    "\n",
    "        if score > 0:\n",
    "            return 'positive'\n",
    "\n",
    "        return 'neutral'\n",
    "\n",
    "\n",
    "def sentiment_analyze(df, column):\n",
    "    df['subjectivity'] = df[column].apply(get_subjectivity).apply(\n",
    "        lambda x: get_analysis(x, 'subjectivity'))\n",
    "    df['polarity'] = df[column].apply(get_polarity).apply(\n",
    "        lambda x: get_analysis(x, 'polarity'))\n",
    "\n",
    "    return df"
   ]
  },
  {
   "cell_type": "code",
   "execution_count": null,
   "metadata": {},
   "outputs": [],
   "source": [
    "def one_hot_encode(df):\n",
    "    onehot_df = pd.get_dummies(\n",
    "        df, prefix=df.columns, columns=df.columns, dtype=int)\n",
    "\n",
    "    return onehot_df"
   ]
  },
  {
   "cell_type": "code",
   "execution_count": null,
   "metadata": {},
   "outputs": [],
   "source": [
    "def normalize(df):\n",
    "    scaler = MinMaxScaler()\n",
    "    normal_df = pd.DataFrame(scaler.fit_transform(df), columns=df.columns)\n",
    "\n",
    "    return normal_df"
   ]
  },
  {
   "cell_type": "code",
   "execution_count": null,
   "metadata": {},
   "outputs": [],
   "source": [
    "# sentiment analysis\n",
    "df = sentiment_analyze(df, 'track_name')"
   ]
  },
  {
   "cell_type": "code",
   "execution_count": null,
   "metadata": {},
   "outputs": [],
   "source": [
    "# TF-IDF\n",
    "tfidf = TfidfVectorizer()\n",
    "tfidf_matrix = tfidf.fit_transform(df['genres'].apply(lambda x: ' '.join(x)))\n",
    "\n",
    "genre_df = pd.DataFrame(tfidf_matrix.toarray())\n",
    "genre_df.columns = ['genre_' + i for i in tfidf.get_feature_names_out()]\n",
    "genre_df.drop(columns='genre_unknown')\n",
    "genre_df.reset_index(drop=True, inplace=True)\n",
    "\n",
    "\n",
    "# one-hot encoding\n",
    "subjectivity = one_hot_encode(df[['subjectivity']]) * 0.3\n",
    "polarity = one_hot_encode(df[['polarity']]) * 0.5\n",
    "key = one_hot_encode(df[['key']]) * 0.5\n",
    "mode = one_hot_encode(df[['mode']]) * 0.5\n",
    "onehot_df = pd.concat([subjectivity, polarity, key, mode], axis=1)\n",
    "onehot_df.reset_index(drop=True, inplace=True)\n",
    "\n",
    "# normalisation\n",
    "float_columns = df.dtypes[df.dtypes == 'float64'].index.values\n",
    "columns_to_normalize = np.concatenate(\n",
    "    (float_columns, ['artist_popularity', 'track_popularity']))\n",
    "normal_df = normalize(df[columns_to_normalize].reset_index(drop=True)) * 0.2\n",
    "normal_df.reset_index(drop=True, inplace=True)\n",
    "\n",
    "\n",
    "feature_set = pd.concat([genre_df, onehot_df, normal_df], axis=1)\n",
    "feature_set['id'] = df['id']\n",
    "\n",
    "feature_set.head()"
   ]
  },
  {
   "cell_type": "code",
   "execution_count": null,
   "metadata": {},
   "outputs": [],
   "source": []
  }
 ],
 "metadata": {
  "kernelspec": {
   "display_name": "Python 3",
   "language": "python",
   "name": "python3"
  },
  "language_info": {
   "codemirror_mode": {
    "name": "ipython",
    "version": 3
   },
   "file_extension": ".py",
   "mimetype": "text/x-python",
   "name": "python",
   "nbconvert_exporter": "python",
   "pygments_lexer": "ipython3",
   "version": "3.11.3"
  },
  "orig_nbformat": 4
 },
 "nbformat": 4,
 "nbformat_minor": 2
}
